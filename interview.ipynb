{
 "cells": [
  {
   "cell_type": "markdown",
   "metadata": {},
   "source": [
    "1. We have 2 recommender systems: Model A & Model B. This is a summary table\\\n",
    "of daily performance of the 2 models from 2020-09-07 to 2020-09-13. The manager\\\n",
    "has assigned each model different amounts of customers to test their\\\n",
    "performance each day ( Customer_Count is the amount of customers assigned by the\\\n",
    "manager ). After a seven-day test, which model will you choose, Model A or Model\\\n",
    "B? Please explain your decision.\n",
    "\n",
    "      Hint: Margin = Net_Amount/Sales_Amount\n",
    "      \n",
    "      Please refer to the following for this question.\n",
    "      \n",
    "      Date By Margin (%) Customer_Count Sales_Amount Net_Amount\\\n",
    "      2020-09-07 Model A 2.81% 74 2448 68.8\\\n",
    "      2020-09-08 Model A 1.11% 92 3232 35.72\\\n",
    "      2020-09-09 Model A 1.86% 120 3948 73.29\\\n",
    "      2020-09-10 Model A 2.20% 63 2207 48.45\\\n",
    "      2020-09-11 Model A 1.61% 64 2155 34.68\\\n",
    "      2020-09-12 Model A 0.64% 265 8484 54.29\\\n",
    "      2020-09-13 Model A 0.28% 241 7857 22.37\\\n",
    "      2020-09-07 Model B 3.31% 29 863 28.54\\\n",
    "      2020-09-08 Model B 1.36% 25 800 10.88\\\n",
    "      2020-09-09 Model B 1.27% 29 986 12.56\\\n",
    "      2020-09-10 Model B 1.14% 19 593 6.79\\\n",
    "      2020-09-11 Model B 2.23% 22 739 16.44\\\n",
    "      2020-09-12 Model B 0.55% 42 1348 7.37\\\n",
    "      2020-09-13 Model B 0.13% 53 1768 2.3"
   ]
  },
  {
   "cell_type": "markdown",
   "metadata": {},
   "source": [
    "首先，我會選擇Net_per_Customer=Net_Amount/Customer_Count作為模型表現的評估指標，\\\n",
    "因為該指標能夠最如實反映，在相同的客戶群體下，兩個模型誰能夠創造更大的收益。"
   ]
  },
  {
   "cell_type": "code",
   "execution_count": 11,
   "metadata": {},
   "outputs": [
    {
     "data": {
      "text/html": [
       "<div>\n",
       "<style scoped>\n",
       "    .dataframe tbody tr th:only-of-type {\n",
       "        vertical-align: middle;\n",
       "    }\n",
       "\n",
       "    .dataframe tbody tr th {\n",
       "        vertical-align: top;\n",
       "    }\n",
       "\n",
       "    .dataframe thead th {\n",
       "        text-align: right;\n",
       "    }\n",
       "</style>\n",
       "<table border=\"1\" class=\"dataframe\">\n",
       "  <thead>\n",
       "    <tr style=\"text-align: right;\">\n",
       "      <th></th>\n",
       "      <th>Date</th>\n",
       "      <th>Model</th>\n",
       "      <th>Customer_Count</th>\n",
       "      <th>Net_Amount</th>\n",
       "      <th>Net_per_Customer</th>\n",
       "    </tr>\n",
       "  </thead>\n",
       "  <tbody>\n",
       "    <tr>\n",
       "      <th>0</th>\n",
       "      <td>2020-09-07</td>\n",
       "      <td>A</td>\n",
       "      <td>74</td>\n",
       "      <td>68.80</td>\n",
       "      <td>0.929730</td>\n",
       "    </tr>\n",
       "    <tr>\n",
       "      <th>1</th>\n",
       "      <td>2020-09-08</td>\n",
       "      <td>A</td>\n",
       "      <td>92</td>\n",
       "      <td>35.72</td>\n",
       "      <td>0.388261</td>\n",
       "    </tr>\n",
       "    <tr>\n",
       "      <th>2</th>\n",
       "      <td>2020-09-09</td>\n",
       "      <td>A</td>\n",
       "      <td>120</td>\n",
       "      <td>73.29</td>\n",
       "      <td>0.610750</td>\n",
       "    </tr>\n",
       "    <tr>\n",
       "      <th>3</th>\n",
       "      <td>2020-09-10</td>\n",
       "      <td>A</td>\n",
       "      <td>63</td>\n",
       "      <td>48.45</td>\n",
       "      <td>0.769048</td>\n",
       "    </tr>\n",
       "    <tr>\n",
       "      <th>4</th>\n",
       "      <td>2020-09-11</td>\n",
       "      <td>A</td>\n",
       "      <td>64</td>\n",
       "      <td>34.68</td>\n",
       "      <td>0.541875</td>\n",
       "    </tr>\n",
       "    <tr>\n",
       "      <th>5</th>\n",
       "      <td>2020-09-12</td>\n",
       "      <td>A</td>\n",
       "      <td>265</td>\n",
       "      <td>54.29</td>\n",
       "      <td>0.204868</td>\n",
       "    </tr>\n",
       "    <tr>\n",
       "      <th>6</th>\n",
       "      <td>2020-09-13</td>\n",
       "      <td>A</td>\n",
       "      <td>241</td>\n",
       "      <td>22.37</td>\n",
       "      <td>0.092822</td>\n",
       "    </tr>\n",
       "    <tr>\n",
       "      <th>7</th>\n",
       "      <td>2020-09-07</td>\n",
       "      <td>B</td>\n",
       "      <td>29</td>\n",
       "      <td>28.54</td>\n",
       "      <td>0.984138</td>\n",
       "    </tr>\n",
       "    <tr>\n",
       "      <th>8</th>\n",
       "      <td>2020-09-08</td>\n",
       "      <td>B</td>\n",
       "      <td>25</td>\n",
       "      <td>10.88</td>\n",
       "      <td>0.435200</td>\n",
       "    </tr>\n",
       "    <tr>\n",
       "      <th>9</th>\n",
       "      <td>2020-09-09</td>\n",
       "      <td>B</td>\n",
       "      <td>29</td>\n",
       "      <td>12.56</td>\n",
       "      <td>0.433103</td>\n",
       "    </tr>\n",
       "    <tr>\n",
       "      <th>10</th>\n",
       "      <td>2020-09-10</td>\n",
       "      <td>B</td>\n",
       "      <td>19</td>\n",
       "      <td>6.79</td>\n",
       "      <td>0.357368</td>\n",
       "    </tr>\n",
       "    <tr>\n",
       "      <th>11</th>\n",
       "      <td>2020-09-11</td>\n",
       "      <td>B</td>\n",
       "      <td>22</td>\n",
       "      <td>16.44</td>\n",
       "      <td>0.747273</td>\n",
       "    </tr>\n",
       "    <tr>\n",
       "      <th>12</th>\n",
       "      <td>2020-09-12</td>\n",
       "      <td>B</td>\n",
       "      <td>42</td>\n",
       "      <td>7.37</td>\n",
       "      <td>0.175476</td>\n",
       "    </tr>\n",
       "    <tr>\n",
       "      <th>13</th>\n",
       "      <td>2020-09-13</td>\n",
       "      <td>B</td>\n",
       "      <td>53</td>\n",
       "      <td>2.30</td>\n",
       "      <td>0.043396</td>\n",
       "    </tr>\n",
       "  </tbody>\n",
       "</table>\n",
       "</div>"
      ],
      "text/plain": [
       "          Date Model  Customer_Count  Net_Amount  Net_per_Customer\n",
       "0   2020-09-07     A              74       68.80          0.929730\n",
       "1   2020-09-08     A              92       35.72          0.388261\n",
       "2   2020-09-09     A             120       73.29          0.610750\n",
       "3   2020-09-10     A              63       48.45          0.769048\n",
       "4   2020-09-11     A              64       34.68          0.541875\n",
       "5   2020-09-12     A             265       54.29          0.204868\n",
       "6   2020-09-13     A             241       22.37          0.092822\n",
       "7   2020-09-07     B              29       28.54          0.984138\n",
       "8   2020-09-08     B              25       10.88          0.435200\n",
       "9   2020-09-09     B              29       12.56          0.433103\n",
       "10  2020-09-10     B              19        6.79          0.357368\n",
       "11  2020-09-11     B              22       16.44          0.747273\n",
       "12  2020-09-12     B              42        7.37          0.175476\n",
       "13  2020-09-13     B              53        2.30          0.043396"
      ]
     },
     "execution_count": 11,
     "metadata": {},
     "output_type": "execute_result"
    }
   ],
   "source": [
    "import pandas as pd\n",
    "import statsmodels.api as sm\n",
    "from statsmodels.formula.api import ols\n",
    "\n",
    "data = [\n",
    "    {\"Date\": \"2020-09-07\", \"Model\": \"A\", \"Customer_Count\": 74, \"Net_Amount\": 68.8},\n",
    "    {\"Date\": \"2020-09-08\", \"Model\": \"A\", \"Customer_Count\": 92, \"Net_Amount\": 35.72},\n",
    "    {\"Date\": \"2020-09-09\", \"Model\": \"A\", \"Customer_Count\": 120, \"Net_Amount\": 73.29},\n",
    "    {\"Date\": \"2020-09-10\", \"Model\": \"A\", \"Customer_Count\": 63, \"Net_Amount\": 48.45},\n",
    "    {\"Date\": \"2020-09-11\", \"Model\": \"A\", \"Customer_Count\": 64, \"Net_Amount\": 34.68},\n",
    "    {\"Date\": \"2020-09-12\", \"Model\": \"A\", \"Customer_Count\": 265, \"Net_Amount\": 54.29},\n",
    "    {\"Date\": \"2020-09-13\", \"Model\": \"A\", \"Customer_Count\": 241, \"Net_Amount\": 22.37},\n",
    "    {\"Date\": \"2020-09-07\", \"Model\": \"B\", \"Customer_Count\": 29, \"Net_Amount\": 28.54},\n",
    "    {\"Date\": \"2020-09-08\", \"Model\": \"B\", \"Customer_Count\": 25, \"Net_Amount\": 10.88},\n",
    "    {\"Date\": \"2020-09-09\", \"Model\": \"B\", \"Customer_Count\": 29, \"Net_Amount\": 12.56},\n",
    "    {\"Date\": \"2020-09-10\", \"Model\": \"B\", \"Customer_Count\": 19, \"Net_Amount\": 6.79},\n",
    "    {\"Date\": \"2020-09-11\", \"Model\": \"B\", \"Customer_Count\": 22, \"Net_Amount\": 16.44},\n",
    "    {\"Date\": \"2020-09-12\", \"Model\": \"B\", \"Customer_Count\": 42, \"Net_Amount\": 7.37},\n",
    "    {\"Date\": \"2020-09-13\", \"Model\": \"B\", \"Customer_Count\": 53, \"Net_Amount\": 2.3},\n",
    "]\n",
    "\n",
    "df = pd.DataFrame(data)\n",
    "df[\"Net_per_Customer\"] = df[\"Net_Amount\"] / df[\"Customer_Count\"]\n",
    "df"
   ]
  },
  {
   "cell_type": "markdown",
   "metadata": {},
   "source": [
    "在模型選擇的部分，我會選擇 Model A，因為如果透過分別計算Model A與Model B\\\n",
    "的每日Net_per_Customer再取整週平均，Model A 的平均為 0.505336，高於 Model B 的 0.453708，\\\n",
    "雖然直接計算整體的Net_per_Customer，Model A的結果0.367356會低於 Model B 的 0.387580。"
   ]
  },
  {
   "cell_type": "code",
   "execution_count": 15,
   "metadata": {},
   "outputs": [
    {
     "name": "stdout",
     "output_type": "stream",
     "text": [
      "每天平均後取平均：\n",
      "  Model  Net_per_Customer\n",
      "0     A          0.505336\n",
      "1     B          0.453708\n",
      "\n",
      "直接加總後計算 Net_per_Customer：\n",
      "  Model  Net_per_Customer\n",
      "0     A          0.367356\n",
      "1     B          0.387580\n"
     ]
    }
   ],
   "source": [
    "# 每天的 Net_per_Customer 平均（分 model）\n",
    "daily_avg = df.groupby([\"Date\", \"Model\"])[\"Net_per_Customer\"].mean().reset_index()\n",
    "\n",
    "# 分別計算 Model A 與 Model B 的每日平均再取整週平均\n",
    "model_avg_by_day = daily_avg.groupby(\"Model\")[\"Net_per_Customer\"].mean()\n",
    "print(\"每天平均後取平均：\")\n",
    "print(model_avg_by_day.reset_index())\n",
    "\n",
    "# 加總後計算 Net_per_Customer\n",
    "model_total = df.groupby(\"Model\")[[\"Net_Amount\", \"Customer_Count\"]].sum()\n",
    "model_total[\"Net_per_Customer\"] = model_total[\"Net_Amount\"] / model_total[\"Customer_Count\"]\n",
    "print(\"\\n直接加總後計算 Net_per_Customer：\")\n",
    "print(model_total[[\"Net_per_Customer\"]].reset_index())"
   ]
  },
  {
   "cell_type": "markdown",
   "metadata": {},
   "source": [
    "但該原因是因為Manager對於兩個Model在七天的客戶百分比分配不均所造成，\\\n",
    "Date對於Net_per_Customer的影響顯著，從Two-way ANOVA的結果即可看出，\\\n",
    "而其中買氣不佳的日期2020-09-12跟2020-09-13，Model A在這兩天被分配的顧客\\\n",
    "占其比例55.05%，Model B只被分配了其總體顧客的43.38%，在買氣最旺的日期2020-09-07，\\\n",
    "Model A在這兩天被分配的顧客占其比例8.05%，Model B分配了其總體顧客的13.24%。"
   ]
  },
  {
   "cell_type": "code",
   "execution_count": null,
   "metadata": {},
   "outputs": [
    {
     "name": "stdout",
     "output_type": "stream",
     "text": [
      "            sum_sq   df         F    PR(>F)\n",
      "C(Model)  0.009329  1.0  0.480393  0.514164\n",
      "C(Date)   1.043091  6.0  8.952102  0.008677\n",
      "Residual  0.116519  6.0       NaN       NaN\n",
      "            sum_sq   df         F    PR(>F)\n",
      "C(Model)  0.009329  1.0  0.480393  0.514164\n",
      "C(Date)   1.043091  6.0  8.952102  0.008677\n",
      "Residual  0.116519  6.0       NaN       NaN\n"
     ]
    }
   ],
   "source": [
    "# Two-way ANOVA: Model + Date + Interaction\n",
    "model = ols('Net_per_Customer ~ C(Model) + C(Date)', data=df).fit()\n",
    "anova_table = sm.stats.anova_lm(model, typ=2)\n",
    "print(anova_table)"
   ]
  },
  {
   "cell_type": "markdown",
   "metadata": {},
   "source": [
    "綜上所述，第一題的結論我選擇Model A。"
   ]
  },
  {
   "cell_type": "markdown",
   "metadata": {},
   "source": [
    "2. We are running a business that sells houses. We have a very high customer\n",
    "cost. Based on the 10 user data in our system, should we get this new customer\n",
    "with the following information below?\n",
    "\n",
    "      Please refer to the following for this question.\n",
    "\n",
    "      New customer:\\\n",
    "      Age Gender Annual income Married\\\n",
    "      40 Female 310k FALSE\n",
    "\n",
    "      User Age Gender Annual income Married Buy\\\n",
    "      1 27 Male 150k FALSE FALSE\\\n",
    "      2 47 Female 300k TRUE TRUE\\\n",
    "      3 32 Male 120k FALSE FALSE\\\n",
    "      4 24 Male 450k FALSE TRUE\\\n",
    "      5 45 Male 300k TRUE FALSE\\\n",
    "      6 56 Male 320k TRUE TRUE\\\n",
    "      7 31 Male 150k FALSE FALSE\\\n",
    "      8 23 Female 300k TRUE FALSE\\\n",
    "      9 42 Male 230k FALSE FALSE\\\n",
    "      10 32 Female 420k TRUE TRUE"
   ]
  },
  {
   "cell_type": "markdown",
   "metadata": {},
   "source": [
    "第一步先將類別變數進行ont-hot encoding，並觀察各項變數與是否夠買的相關性，接著做Pearson correlation test，從下方結果顯示，Income對於是否購買的線性相關是顯著的，接著查看income的分布。"
   ]
  },
  {
   "cell_type": "code",
   "execution_count": 1,
   "metadata": {},
   "outputs": [
    {
     "name": "stdout",
     "output_type": "stream",
     "text": [
      "  Variable  Correlation   p-value\n",
      "2   Income     0.757110  0.011222\n",
      "3  Married     0.408248  0.241504\n",
      "1   Gender     0.356348  0.312160\n",
      "0      Age     0.301246  0.397640\n"
     ]
    }
   ],
   "source": [
    "import pandas as pd\n",
    "import seaborn as sns\n",
    "import matplotlib.pyplot as plt\n",
    "from scipy.stats import pearsonr\n",
    "\n",
    "# 建立資料\n",
    "data = [\n",
    "    {\"Age\": 27, \"Gender\": \"Male\", \"Income\": 150, \"Married\": False, \"Buy\": False},\n",
    "    {\"Age\": 47, \"Gender\": \"Female\", \"Income\": 300, \"Married\": True, \"Buy\": True},\n",
    "    {\"Age\": 32, \"Gender\": \"Male\", \"Income\": 120, \"Married\": False, \"Buy\": False},\n",
    "    {\"Age\": 24, \"Gender\": \"Male\", \"Income\": 450, \"Married\": False, \"Buy\": True},\n",
    "    {\"Age\": 45, \"Gender\": \"Male\", \"Income\": 300, \"Married\": True, \"Buy\": False},\n",
    "    {\"Age\": 56, \"Gender\": \"Male\", \"Income\": 320, \"Married\": True, \"Buy\": True},\n",
    "    {\"Age\": 31, \"Gender\": \"Male\", \"Income\": 150, \"Married\": False, \"Buy\": False},\n",
    "    {\"Age\": 23, \"Gender\": \"Female\", \"Income\": 300, \"Married\": True, \"Buy\": False},\n",
    "    {\"Age\": 42, \"Gender\": \"Male\", \"Income\": 230, \"Married\": False, \"Buy\": False},\n",
    "    {\"Age\": 32, \"Gender\": \"Female\", \"Income\": 420, \"Married\": True, \"Buy\": True},\n",
    "]\n",
    "\n",
    "# 建立 DataFrame\n",
    "df = pd.DataFrame(data)\n",
    "\n",
    "# 類別轉數值\n",
    "df[\"Gender\"] = df[\"Gender\"].map({\"Male\": 0, \"Female\": 1})\n",
    "df[\"Married\"] = df[\"Married\"].astype(int)\n",
    "df[\"Buy\"] = df[\"Buy\"].astype(int)\n",
    "\n",
    "results = []\n",
    "for col in [\"Age\", \"Gender\", \"Income\", \"Married\"]:\n",
    "    corr, p = pearsonr(df[col], df[\"Buy\"])\n",
    "    results.append({\"Variable\": col, \"Correlation\": corr, \"p-value\": p})\n",
    "\n",
    "# 顯示結果\n",
    "result_df = pd.DataFrame(results).sort_values(by=\"p-value\")\n",
    "print(result_df)"
   ]
  },
  {
   "cell_type": "markdown",
   "metadata": {},
   "source": [
    "從分布結果可以看出，income>300的顧客全部會購買，新顧客的收入為310，因此我們該招攬新客戶。"
   ]
  },
  {
   "cell_type": "code",
   "execution_count": 2,
   "metadata": {},
   "outputs": [
    {
     "name": "stderr",
     "output_type": "stream",
     "text": [
      "/tmp/ipykernel_65575/2471047078.py:3: FutureWarning: \n",
      "\n",
      "Passing `palette` without assigning `hue` is deprecated and will be removed in v0.14.0. Assign the `x` variable to `hue` and set `legend=False` for the same effect.\n",
      "\n",
      "  sns.boxplot(x=\"Buy\", y=\"Income\", data=df, palette=[\"skyblue\", \"salmon\"])\n"
     ]
    },
    {
     "data": {
      "image/png": "[encoded data removed]",
      "text/plain": [
       "<Figure size 600x400 with 1 Axes>"
      ]
     },
     "metadata": {},
     "output_type": "display_data"
    }
   ],
   "source": [
    "# 使用無 hue 的版本避免 seaborn bug\n",
    "plt.figure(figsize=(6, 4))\n",
    "sns.boxplot(x=\"Buy\", y=\"Income\", data=df, palette=[\"skyblue\", \"salmon\"])\n",
    "plt.title(\"Income Distribution by Buy\")\n",
    "plt.xlabel(\"Buy (0 = No, 1 = Yes)\")\n",
    "plt.ylabel(\"Income\")\n",
    "plt.tight_layout()\n",
    "plt.show()\n"
   ]
  },
  {
   "cell_type": "markdown",
   "metadata": {},
   "source": []
  },
  {
   "cell_type": "code",
   "execution_count": 4,
   "metadata": {},
   "outputs": [
    {
     "name": "stderr",
     "output_type": "stream",
     "text": [
      "/tmp/ipykernel_65575/617844069.py:12: RuntimeWarning: overflow encountered in exp\n",
      "  return a * np.exp(-b * x)\n"
     ]
    },
    {
     "name": "stdout",
     "output_type": "stream",
     "text": [
      "Predicted sales on day 500: 0.011894 million\n",
      "Predicted sales on day 1000: 0.000132 million\n"
     ]
    },
    {
     "data": {
      "image/png": "[encoded data removed]",
      "text/plain": [
       "<Figure size 800x500 with 1 Axes>"
      ]
     },
     "metadata": {},
     "output_type": "display_data"
    },
    {
     "name": "stdout",
     "output_type": "stream",
     "text": [
      "                            OLS Regression Results                            \n",
      "==============================================================================\n",
      "Dep. Variable:                      y   R-squared:                       0.963\n",
      "Model:                            OLS   Adj. R-squared:                  0.960\n",
      "Method:                 Least Squares   F-statistic:                     262.1\n",
      "Date:                Thu, 15 May 2025   Prob (F-statistic):           1.67e-08\n",
      "Time:                        10:49:12   Log-Likelihood:                 8.4497\n",
      "No. Observations:                  12   AIC:                            -12.90\n",
      "Df Residuals:                      10   BIC:                            -11.93\n",
      "Df Model:                           1                                         \n",
      "Covariance Type:            nonrobust                                         \n",
      "==============================================================================\n",
      "                 coef    std err          t      P>|t|      [0.025      0.975]\n",
      "------------------------------------------------------------------------------\n",
      "const          0.0599      0.072      0.836      0.423      -0.100       0.219\n",
      "x1            -0.0089      0.001    -16.190      0.000      -0.010      -0.008\n",
      "==============================================================================\n",
      "Omnibus:                        6.365   Durbin-Watson:                   1.743\n",
      "Prob(Omnibus):                  0.041   Jarque-Bera (JB):                2.591\n",
      "Skew:                          -0.869   Prob(JB):                        0.274\n",
      "Kurtosis:                       4.471   Cond. No.                         248.\n",
      "==============================================================================\n",
      "\n",
      "Notes:\n",
      "[1] Standard Errors assume that the covariance matrix of the errors is correctly specified.\n"
     ]
    },
    {
     "name": "stderr",
     "output_type": "stream",
     "text": [
      "/home/jonaskao/.local/lib/python3.10/site-packages/scipy/stats/_axis_nan_policy.py:418: UserWarning: `kurtosistest` p-value may be inaccurate with fewer than 20 observations; only n=12 observations were given.\n",
      "  return hypotest_fun_in(*args, **kwds)\n"
     ]
    }
   ],
   "source": [
    "import numpy as np\n",
    "import matplotlib.pyplot as plt\n",
    "from scipy.optimize import curve_fit\n",
    "import statsmodels.api as sm\n",
    "\n",
    "# 原始資料\n",
    "days = np.array([1, 21, 41, 61, 81, 101, 121, 141, 161, 181, 201, 221])\n",
    "sales = np.array([1.08, 0.90, 0.72, 0.58, 0.48, 0.42, 0.37, 0.33, 0.26, 0.24, 0.22, 0.11])\n",
    "\n",
    "# 定義指數衰減模型\n",
    "def exp_decay(x, a, b):\n",
    "    return a * np.exp(-b * x)\n",
    "\n",
    "# 擬合模型\n",
    "params, covariance = curve_fit(exp_decay, days, sales)\n",
    "a, b = params\n",
    "\n",
    "# 預測第 500 與 1000 天\n",
    "day_500 = exp_decay(500, a, b)\n",
    "day_1000 = exp_decay(1000, a, b)\n",
    "\n",
    "print(f\"Predicted sales on day 500: {day_500:.6f} million\")\n",
    "print(f\"Predicted sales on day 1000: {day_1000:.6f} million\")\n",
    "\n",
    "# 畫擬合圖\n",
    "x_fit = np.linspace(1, 1000, 500)\n",
    "y_fit = exp_decay(x_fit, a, b)\n",
    "\n",
    "plt.figure(figsize=(8, 5))\n",
    "plt.scatter(days, sales, label=\"Observed Sales\")\n",
    "plt.plot(x_fit, y_fit, color=\"red\", label=\"Exponential Fit\")\n",
    "plt.xlabel(\"Day\")\n",
    "plt.ylabel(\"Sales Amount (million)\")\n",
    "plt.title(\"Exponential Decay Fit to Sales Data\")\n",
    "plt.legend()\n",
    "plt.grid(True)\n",
    "plt.tight_layout()\n",
    "plt.show()\n",
    "\n",
    "# 顯著性檢定：轉換為 ln(y) = ln(a) - b * x\n",
    "log_sales = np.log(sales)\n",
    "X = sm.add_constant(days)\n",
    "model = sm.OLS(log_sales, X).fit()\n",
    "print(model.summary())\n"
   ]
  }
 ],
 "metadata": {
  "kernelspec": {
   "display_name": "Python 3",
   "language": "python",
   "name": "python3"
  },
  "language_info": {
   "codemirror_mode": {
    "name": "ipython",
    "version": 3
   },
   "file_extension": ".py",
   "mimetype": "text/x-python",
   "name": "python",
   "nbconvert_exporter": "python",
   "pygments_lexer": "ipython3",
   "version": "3.10.12"
  }
 },
 "nbformat": 4,
 "nbformat_minor": 2
}
